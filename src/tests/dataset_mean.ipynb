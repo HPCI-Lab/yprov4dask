{
 "cells": [
  {
   "cell_type": "markdown",
   "id": "ddbe3921",
   "metadata": {},
   "source": [
    "### Opens a dataset and computes an average"
   ]
  },
  {
   "cell_type": "code",
   "execution_count": null,
   "id": "35505cc0",
   "metadata": {},
   "outputs": [],
   "source": [
    "from distributed import Client\n",
    "from prov_tracking.plugin import ProvTracker\n",
    "import xarray as xr"
   ]
  },
  {
   "cell_type": "markdown",
   "id": "ca56c154",
   "metadata": {},
   "source": [
    "#### Register Dask provenance tracker"
   ]
  },
  {
   "cell_type": "code",
   "execution_count": null,
   "id": "6d67e368",
   "metadata": {},
   "outputs": [],
   "source": [
    "client: Client = Client()\n",
    "plugin = ProvTracker(\n",
    "  destination = '../../output',\n",
    "  keep_traceback=True, rich_types=True,\n",
    "  jupyter_tracking=True\n",
    ")\n",
    "client.register_plugin(plugin)\n",
    "plugin.start(client.scheduler)\n",
    "client"
   ]
  },
  {
   "cell_type": "code",
   "execution_count": null,
   "id": "86ab67db",
   "metadata": {},
   "outputs": [],
   "source": [
    "def inc(i):\n",
    "  return i + 1\n",
    "s = client.submit(inc, 1)"
   ]
  },
  {
   "cell_type": "code",
   "execution_count": null,
   "id": "fa98f09d",
   "metadata": {},
   "outputs": [],
   "source": [
    "s = s.result()\n",
    "print(s)"
   ]
  },
  {
   "cell_type": "markdown",
   "id": "18e4a6d5",
   "metadata": {},
   "source": [
    "#### Opens the dataset"
   ]
  },
  {
   "cell_type": "code",
   "execution_count": null,
   "id": "c9a2d035",
   "metadata": {},
   "outputs": [],
   "source": [
    "ds = xr.tutorial.open_dataset(\n",
    "  \"air_temperature\",\n",
    "  chunks={  # this tells xarray to open the dataset as a dask array\n",
    "    \"lat\": 25,\n",
    "    \"lon\": 25,\n",
    "    \"time\": -1,\n",
    "  },\n",
    ")"
   ]
  },
  {
   "cell_type": "markdown",
   "id": "01d57492",
   "metadata": {},
   "source": [
    "#### Gets the data"
   ]
  },
  {
   "cell_type": "code",
   "execution_count": null,
   "id": "04059a15",
   "metadata": {},
   "outputs": [],
   "source": [
    "air = ds['air']"
   ]
  },
  {
   "cell_type": "markdown",
   "id": "ac6f8dd1",
   "metadata": {},
   "source": [
    "#### Computes the average"
   ]
  },
  {
   "cell_type": "code",
   "execution_count": null,
   "id": "e570acfe",
   "metadata": {},
   "outputs": [],
   "source": [
    "ds_mean = ds.mean(dim = 'time')\n",
    "ds_mean = ds_mean.compute()"
   ]
  },
  {
   "cell_type": "markdown",
   "id": "d2606be5",
   "metadata": {},
   "source": [
    "#### Closes the client and generates the provenance graph"
   ]
  },
  {
   "cell_type": "code",
   "execution_count": null,
   "id": "590da79c",
   "metadata": {},
   "outputs": [],
   "source": [
    "client.shutdown()"
   ]
  }
 ],
 "metadata": {
  "kernelspec": {
   "display_name": ".venv",
   "language": "python",
   "name": "python3"
  },
  "language_info": {
   "codemirror_mode": {
    "name": "ipython",
    "version": 3
   },
   "file_extension": ".py",
   "mimetype": "text/x-python",
   "name": "python",
   "nbconvert_exporter": "python",
   "pygments_lexer": "ipython3",
   "version": "3.12.10"
  }
 },
 "nbformat": 4,
 "nbformat_minor": 5
}
