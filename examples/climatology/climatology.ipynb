{
 "cells": [
  {
   "cell_type": "markdown",
   "id": "f0bcec13-cc27-4be4-9237-20a9afbf40dc",
   "metadata": {},
   "source": [
    "# Climate Data Analysis, Visualization and FAIRness in Practice - DEMO"
   ]
  },
  {
   "cell_type": "markdown",
   "id": "410bef95",
   "metadata": {},
   "source": [
    "## Obtaining the dataset"
   ]
  },
  {
   "cell_type": "code",
   "execution_count": null,
   "id": "de8a1e92",
   "metadata": {},
   "outputs": [],
   "source": [
    "import intake\n",
    "import xarray as xr\n",
    "\n",
    "esm_file = \"catalog/CMIP6_ESM_colletion_file.json\"\n",
    "collection = intake.open_esm_datastore(esm_file)\n",
    "\n",
    "experiment_id = \"ssp585\"\n",
    "source_id=\"CMCC-CM2-SR5\"\n",
    "variable_id=\"tas\"\n",
    "table_id=\"day\"\n",
    "\n",
    "query = dict(\n",
    "    experiment_id=experiment_id,\n",
    "    source_id=source_id, \n",
    "    variable_id=variable_id,\n",
    "    table_id=table_id\n",
    ")\n",
    "search_result = collection.search(**query)\n",
    "CMIP6 = xr.open_dataset(search_result.df.path[0], engine='zarr', chunks={})\n",
    "\n",
    "track_id = CMIP6.attrs['tracking_id'].split(':')[-1]\n",
    "\n",
    "print(f'https://hdl.handle.net/{track_id}')\n",
    "import requests\n",
    "import json\n",
    "response = requests.get(f'https://hdl.handle.net/api/handles/{track_id}')\n",
    "print(json.dumps(response.json(), indent=1))\n",
    "\n",
    "CMIP6.to_netcdf(f'data/CMIP6-{experiment_id}_{source_id}_{variable_id}_{table_id}.nc', engine='netcdf4')\n",
    "\n",
    "from dask.distributed import LocalCluster, Client\n",
    "\n",
    "def start_dask_cluster(workers, total_memory, n_threads):\n",
    "    workers = workers\n",
    "    total_memory = total_memory\n",
    "    memory = f'{total_memory//workers}GB'\n",
    "    dask_cluster = LocalCluster(n_workers=workers, memory_limit=memory, threads_per_worker=n_threads)\n",
    "    _dask_client = Client(dask_cluster)\n",
    "    return _dask_client\n",
    "\n",
    "import xarray as xr\n",
    "import intake\n",
    "\n",
    "client = start_dask_cluster(workers=1, total_memory=32, n_threads=8)\n",
    "\n",
    "catalog = intake.open_catalog('catalog/catalog.yaml')\n",
    "ds = catalog.cmip6_netcdf.to_dask()\n",
    "ds = ds.chunk({\n",
    "    \"time\": len(ds.time.values)//5,\n",
    "    \"lat\": len(ds.lat.values)//4,\n",
    "    \"lon\": len(ds.lon.values)//4\n",
    "})\n",
    "ds.to_zarr('data/cmip6.zarr', mode='w', consolidated=True)\n",
    "\n",
    "client.shutdown()"
   ]
  },
  {
   "cell_type": "markdown",
   "id": "9ec3aa7d-3992-4f8c-85d3-5a567d7cd098",
   "metadata": {},
   "source": [
    "## Loading the new Zarr Dataset"
   ]
  },
  {
   "cell_type": "code",
   "execution_count": null,
   "id": "c49ed8b0-25f7-4194-8650-73a52ec7bcae",
   "metadata": {},
   "outputs": [],
   "source": [
    "import xarray as xr\n",
    "import intake\n",
    "import hvplot.xarray\n",
    "import panel as pn\n",
    "pn.extension(\"tabulator\")"
   ]
  },
  {
   "cell_type": "code",
   "execution_count": null,
   "id": "4a3844e6",
   "metadata": {},
   "outputs": [],
   "source": [
    "import dask\n",
    "from dask.distributed import LocalCluster, Client"
   ]
  },
  {
   "cell_type": "code",
   "execution_count": null,
   "id": "d59482b1",
   "metadata": {},
   "outputs": [],
   "source": [
    "def start_dask_cluster(workers, total_memory, n_threads):\n",
    "    workers = workers\n",
    "    total_memory = total_memory\n",
    "    memory = f'{total_memory//workers}GB'\n",
    "    dask_cluster = LocalCluster(n_workers=workers, memory_limit=memory, threads_per_worker=n_threads)\n",
    "    _dask_client = Client(dask_cluster)\n",
    "    return _dask_client"
   ]
  },
  {
   "cell_type": "code",
   "execution_count": null,
   "id": "ef498abc-8cac-44b3-a4f0-5fb046b5347b",
   "metadata": {
    "scrolled": true
   },
   "outputs": [],
   "source": [
    "from prov_tracking import ProvTracker\n",
    "\n",
    "client = start_dask_cluster(workers=8, total_memory=32, n_threads=1)\n",
    "plugin = ProvTracker(rich_types=True)\n",
    "client.register_plugin(plugin)\n",
    "plugin.start(client.scheduler)"
   ]
  },
  {
   "cell_type": "code",
   "execution_count": null,
   "id": "f5e58fc7-36a2-4650-88dc-829b19170a1e",
   "metadata": {},
   "outputs": [],
   "source": [
    "catalog = intake.open_catalog('catalog/catalog.yaml')"
   ]
  },
  {
   "cell_type": "code",
   "execution_count": null,
   "id": "39c84db1-b65e-4b5e-a669-570c13ec2c11",
   "metadata": {},
   "outputs": [],
   "source": [
    "zarr = catalog.cmip6_zarr.to_dask()"
   ]
  },
  {
   "cell_type": "code",
   "execution_count": null,
   "id": "1035b6a7-5d3c-4791-96a5-8d40c49d22d1",
   "metadata": {},
   "outputs": [],
   "source": [
    "zarr"
   ]
  },
  {
   "cell_type": "markdown",
   "id": "e48fe411-3c9f-40d7-98a5-a5aaacb19769",
   "metadata": {},
   "source": [
    "## Compute a Seasonal Climatology\n",
    "\n",
    "Seasonal climatology refers to the analysis of long-term average atmospheric and surface conditions (such as temperature, precipitation, and wind) computed separately for each of the four meteorological seasons (e.g., DJF, MAM, JJA, SON). By averaging data over many years, it highlights the characteristic “typical” climate for each season and helps identify deviations or trends relative to those seasonal norms.\n",
    "\n",
    "This kind of aggregation can be performed using XArray built-in function [groupby](https://docs.xarray.dev/en/stable/user-guide/groupby.html#groupby)"
   ]
  },
  {
   "cell_type": "code",
   "execution_count": null,
   "id": "cbcc3b71-8b33-42ce-a1f5-67349bde5c85",
   "metadata": {},
   "outputs": [],
   "source": [
    "seasonal_climatology = zarr.tas.groupby(\"time.season\").mean() - 273.15"
   ]
  },
  {
   "cell_type": "code",
   "execution_count": null,
   "id": "bd5c44e6-8234-41fd-9fb5-2e8972f8c238",
   "metadata": {},
   "outputs": [],
   "source": [
    "seasonal_climatology"
   ]
  },
  {
   "cell_type": "code",
   "execution_count": null,
   "id": "72968ebc-65f2-470c-9331-c8d69d311ba2",
   "metadata": {},
   "outputs": [],
   "source": [
    "%%time\n",
    "seasonal_climatology = seasonal_climatology.compute()"
   ]
  },
  {
   "cell_type": "code",
   "execution_count": null,
   "id": "f053c9b2-dd26-49e6-973d-82f2b867db78",
   "metadata": {},
   "outputs": [],
   "source": [
    "seasonal_climatology"
   ]
  },
  {
   "cell_type": "code",
   "execution_count": null,
   "id": "84a48860-c169-4e02-ab5a-2c1b3fdf7c5f",
   "metadata": {},
   "outputs": [],
   "source": [
    "season = pn.widgets.Select(name='Season', options=list(seasonal_climatology.season.values))\n",
    "seasonal_climatology.interactive().sel(season=season).hvplot(cmap='seismic')"
   ]
  },
  {
   "cell_type": "markdown",
   "id": "88410afa-2a3f-48cc-b007-f514ba6ce944",
   "metadata": {},
   "source": [
    "### 🔍 Seasonal Anomaly Calculation\n",
    "\n",
    "To analyze climate variability, it is common to compare current observations with long-term averages. A **seasonal anomaly** measures the difference between observed seasonal conditions and the corresponding climatological mean.\n",
    "\n",
    "In this case, we compute the temperature anomaly for the **summer season (JJA) of a given year** using the following steps:\n",
    "\n",
    "1. **Extract data for the summer period** (June–August) of the target year from the hourly dataset.\n",
    "2. **Aggregate the seasonal data** by computing the mean temperature across the selected months.\n",
    "3. **Select the climatological mean** for the summer season (JJA) from a precomputed seasonal climatology.\n",
    "4. **Subtract the climatology from the seasonal mean**, yielding the anomaly field:\n",
    "\n",
    "$$\n",
    "\\text{Anomaly}_{\\text{year},\\text{JJA}} = \\overline{T}_{\\text{year},\\text{JJA}} - \\overline{T}_{\\text{Climatology},\\text{JJA}}\n",
    "$$\n",
    "\n",
    "This anomaly highlights regions where temperatures during the summer were **above or below normal**, providing insight into unusual climate behavior or extreme events.\n"
   ]
  },
  {
   "cell_type": "code",
   "execution_count": null,
   "id": "c6de2811-f5c5-4391-b45d-3efec0822561",
   "metadata": {},
   "outputs": [],
   "source": [
    "import cartopy.crs as ccrs "
   ]
  },
  {
   "cell_type": "code",
   "execution_count": null,
   "id": "cfdbcfa5-5ff4-4614-bdd3-c5d6b1ca364c",
   "metadata": {},
   "outputs": [],
   "source": [
    "seasonal_climatology = zarr.tas.sel(time=slice('2015','2025')).groupby(\"time.season\").mean() - 273.15"
   ]
  },
  {
   "cell_type": "code",
   "execution_count": null,
   "id": "33d76a12-ba9e-447c-ba5c-b8dce4aaa6dc",
   "metadata": {},
   "outputs": [],
   "source": [
    "summer = zarr.sel(time=slice(\"2025-06-01\", \"2025-08-31\"))"
   ]
  },
  {
   "cell_type": "code",
   "execution_count": null,
   "id": "8c2a2cd1-9e26-4b2d-9728-ee19ec35ea99",
   "metadata": {},
   "outputs": [],
   "source": [
    "summer_mean = summer.tas.mean(dim='time') - 273.15\n",
    "summer_mean = summer_mean.compute()"
   ]
  },
  {
   "cell_type": "code",
   "execution_count": null,
   "id": "f89c5aa3-289f-4f0e-8ff9-230c7eb75214",
   "metadata": {},
   "outputs": [],
   "source": [
    "jja_climatology = seasonal_climatology.sel(season='JJA')"
   ]
  },
  {
   "cell_type": "code",
   "execution_count": null,
   "id": "763310dc-b24d-46c8-9f1c-ca5f027c2a45",
   "metadata": {},
   "outputs": [],
   "source": [
    "summer_anomaly = summer_mean - jja_climatology"
   ]
  },
  {
   "cell_type": "code",
   "execution_count": null,
   "id": "ee0785a3-716c-4af5-ae8a-10be6e4d0752",
   "metadata": {},
   "outputs": [],
   "source": [
    "summer_anomaly"
   ]
  },
  {
   "cell_type": "code",
   "execution_count": null,
   "id": "c3383fe1-4329-47fa-8bc4-3e0fd8f03096",
   "metadata": {},
   "outputs": [],
   "source": [
    "dask.visualize(summer_anomaly, filename='summer_dask_graph', format='svg')"
   ]
  },
  {
   "cell_type": "code",
   "execution_count": null,
   "id": "8f105eec-fb7b-4895-84ed-61f5048b33cf",
   "metadata": {},
   "outputs": [],
   "source": [
    "summer_anomaly.interactive().hvplot(cmap='coolwarm', crs=ccrs.PlateCarree(), projection=ccrs.PlateCarree())"
   ]
  },
  {
   "cell_type": "markdown",
   "id": "85f566d3",
   "metadata": {},
   "source": [
    "### Generate the provenance graph"
   ]
  },
  {
   "cell_type": "code",
   "execution_count": null,
   "id": "09229b43",
   "metadata": {},
   "outputs": [],
   "source": [
    "client.shutdown()"
   ]
  }
 ],
 "metadata": {
  "kernelspec": {
   "display_name": ".venv",
   "language": "python",
   "name": "python3"
  },
  "language_info": {
   "codemirror_mode": {
    "name": "ipython",
    "version": 3
   },
   "file_extension": ".py",
   "mimetype": "text/x-python",
   "name": "python",
   "nbconvert_exporter": "python",
   "pygments_lexer": "ipython3",
   "version": "3.12.10"
  },
  "panel-cell-order": [
   "a6c77d7f-6aa2-46e4-bab0-c040d58bc336"
  ]
 },
 "nbformat": 4,
 "nbformat_minor": 5
}
